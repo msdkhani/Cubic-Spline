{
 "cells": [
  {
   "cell_type": "markdown",
   "metadata": {},
   "source": [
    "# Cubic Spline"
   ]
  },
  {
   "cell_type": "markdown",
   "metadata": {},
   "source": [
    "## 1 - Packages ##\n",
    "\n",
    "Let's first import all the packages that you will need.\n",
    "- [numpy](https://www.numpy.org/) is the fundamental package for scientific computing with Python.\n",
    "- [matplotlib](http://matplotlib.org) is a library for plotting graphs in Python.\n",
    "- Random provides some random number\n",
    "- Linalg is a library for solving linear system."
   ]
  },
  {
   "cell_type": "code",
   "execution_count": 4,
   "metadata": {},
   "outputs": [],
   "source": [
    "import matplotlib.pyplot as plt\n",
    "import numpy as np\n",
    "from random import randint\n",
    "import scipy.linalg as la"
   ]
  },
  {
   "cell_type": "markdown",
   "metadata": {},
   "source": [
    "##### N is number of point that we want and n is the number of curve\n",
    "##### In addition we want x to be on range[0-10] and it should be in order"
   ]
  },
  {
   "cell_type": "code",
   "execution_count": 22,
   "metadata": {},
   "outputs": [],
   "source": [
    "N = 4\n",
    "n = N-1\n",
    "x = np.linspace(0, 10, N)\n",
    "y = np.random.randint(0,6,N)"
   ]
  },
  {
   "cell_type": "code",
   "execution_count": 24,
   "metadata": {},
   "outputs": [
    {
     "data": {
      "image/png": "[encoded data removed]",
      "text/plain": [
       "<Figure size 432x288 with 1 Axes>"
      ]
     },
     "metadata": {
      "needs_background": "light"
     },
     "output_type": "display_data"
    }
   ],
   "source": [
    "plt.plot(x,y,'ro')\n",
    "plt.title('points')\n",
    "plt.xlabel('X-coordinates')\n",
    "plt.ylabel('Y-coordinates')\n",
    "plt.show()"
   ]
  },
  {
   "cell_type": "markdown",
   "metadata": {},
   "source": [
    "#### First of all we should get delta (domain) of x ( we may have different x[i] which leads to different dx in every curve)"
   ]
  },
  {
   "cell_type": "code",
   "execution_count": 25,
   "metadata": {},
   "outputs": [],
   "source": [
    "dx = x[1] - x[0]"
   ]
  },
  {
   "cell_type": "markdown",
   "metadata": {},
   "source": [
    "#### I use this formula to inner slots of b\n",
    "\n",
    "$$b = 6 /dx * ( y {i-1} - 2 yi + y {i+1} )$$\n",
    "\n"
   ]
  },
  {
   "cell_type": "code",
   "execution_count": 26,
   "metadata": {},
   "outputs": [
    {
     "data": {
      "text/plain": [
       "array([-5.4,  7.2])"
      ]
     },
     "execution_count": 26,
     "metadata": {},
     "output_type": "execute_result"
    }
   ],
   "source": [
    "b = np.zeros(n+1)\n",
    "b[1:n] = (6.0/dx)*(y[0:n-1] - 2.0*y[1:n] + y[2:n+1])\n",
    "b = b[1:n]\n",
    "b"
   ]
  },
  {
   "cell_type": "markdown",
   "metadata": {},
   "source": [
    "#### We use \"u\" for upper diagnonal \"d\" for diagonal and \"l\" for lower diagnonal "
   ]
  },
  {
   "cell_type": "code",
   "execution_count": 27,
   "metadata": {},
   "outputs": [
    {
     "data": {
      "text/plain": [
       "(array([0.        , 3.33333333]),\n",
       " array([13.33333333, 13.33333333]),\n",
       " array([3.33333333, 0.        ]))"
      ]
     },
     "execution_count": 27,
     "metadata": {},
     "output_type": "execute_result"
    }
   ],
   "source": [
    "u = np.zeros(n-1)\n",
    "d = np.zeros(n-1)\n",
    "l = np.zeros(n-1)\n",
    "\n",
    "d[:] = 4.0*dx\n",
    "\n",
    "u[:] = dx\n",
    "u[0] = 0.0\n",
    "\n",
    "l[:] = dx\n",
    "l[n-2] = 0.0\n",
    "\n",
    "u,d,l"
   ]
  },
  {
   "cell_type": "markdown",
   "metadata": {},
   "source": [
    "#### This A matrix just Create 3 arrays which will represent the diagonal (d), the upper diagonal (u), and the lower diagnonal (l). "
   ]
  },
  {
   "cell_type": "code",
   "execution_count": 28,
   "metadata": {},
   "outputs": [
    {
     "data": {
      "text/plain": [
       "matrix([[ 0.        ,  3.33333333],\n",
       "        [13.33333333, 13.33333333],\n",
       "        [ 3.33333333,  0.        ]])"
      ]
     },
     "execution_count": 28,
     "metadata": {},
     "output_type": "execute_result"
    }
   ],
   "source": [
    "A = np.matrix([u,d,l])\n",
    "A"
   ]
  },
  {
   "cell_type": "markdown",
   "metadata": {},
   "source": [
    "### solve linear system Ax = b with scipy library"
   ]
  },
  {
   "cell_type": "code",
   "execution_count": 29,
   "metadata": {},
   "outputs": [
    {
     "data": {
      "text/plain": [
       "array([-0.576,  0.684])"
      ]
     },
     "execution_count": 29,
     "metadata": {},
     "output_type": "execute_result"
    }
   ],
   "source": [
    "xsol = la.solve_banded((1,1), A, b)\n",
    "xsol"
   ]
  },
  {
   "cell_type": "markdown",
   "metadata": {},
   "source": [
    "### So beacuse we use natrual boundry we should set p'' == 0 at i = 0 and n (First and end poin)"
   ]
  },
  {
   "cell_type": "code",
   "execution_count": 30,
   "metadata": {
    "scrolled": true
   },
   "outputs": [
    {
     "data": {
      "text/plain": [
       "array([ 0.   , -0.576,  0.684,  0.   ])"
      ]
     },
     "execution_count": 30,
     "metadata": {},
     "output_type": "execute_result"
    }
   ],
   "source": [
    "pp = np.insert(xsol, 0, 0)\n",
    "pp = np.insert(pp, n, 0)\n",
    "pp"
   ]
  },
  {
   "cell_type": "markdown",
   "metadata": {},
   "source": [
    "### for ploting our curve we use x with 100 points for a smooth plot"
   ]
  },
  {
   "cell_type": "code",
   "execution_count": 31,
   "metadata": {},
   "outputs": [],
   "source": [
    "def plot_spline(x0, x1, y0, y1, pp0, pp1):\n",
    "    \n",
    "    \n",
    "    x = np.linspace(x0, x1, 100)\n",
    "    dx = x1-x0\n",
    "\n",
    "    alpha = pp1/(6.0*dx)\n",
    "    beta = -pp0/(6.0*dx)\n",
    "\n",
    "    gamma = (-pp1*dx*dx/6.0 + y1)/dx\n",
    "    eta = (pp0*dx*dx/6.0 - y0)/dx\n",
    "\n",
    "    p = alpha*(x-x0)**3 + beta*(x-x1)**3 + gamma*(x-x0) + eta*(x-x1)\n",
    "\n",
    "    plt.plot(x,p)"
   ]
  },
  {
   "cell_type": "markdown",
   "metadata": {},
   "source": [
    "#### I work on interval i , i+1 for curve between two points"
   ]
  },
  {
   "cell_type": "code",
   "execution_count": 32,
   "metadata": {},
   "outputs": [
    {
     "data": {
      "image/png": "[encoded data removed]",
      "text/plain": [
       "<Figure size 432x288 with 1 Axes>"
      ]
     },
     "metadata": {
      "needs_background": "light"
     },
     "output_type": "display_data"
    }
   ],
   "source": [
    "for i in range(n):\n",
    "\n",
    "    pp_i = pp[i]\n",
    "    pp_ip1 = pp[i+1]\n",
    "\n",
    "    y_i = y[i]\n",
    "    y_ip1 = y[i+1]\n",
    "\n",
    "    x_i = x[i]\n",
    "    x_ip1 = x[i+1]\n",
    "    \n",
    "    \n",
    "    plt.scatter(x, y, marker=\"x\", color=\"r\")\n",
    "    plot_spline(x_i, x_ip1, y_i, y_ip1, pp_i, pp_ip1)\n"
   ]
  },
  {
   "cell_type": "code",
   "execution_count": null,
   "metadata": {},
   "outputs": [],
   "source": []
  }
 ],
 "metadata": {
  "kernelspec": {
   "display_name": "Python 3",
   "language": "python",
   "name": "python3"
  },
  "language_info": {
   "codemirror_mode": {
    "name": "ipython",
    "version": 3
   },
   "file_extension": ".py",
   "mimetype": "text/x-python",
   "name": "python",
   "nbconvert_exporter": "python",
   "pygments_lexer": "ipython3",
   "version": "3.7.7"
  }
 },
 "nbformat": 4,
 "nbformat_minor": 2
}
